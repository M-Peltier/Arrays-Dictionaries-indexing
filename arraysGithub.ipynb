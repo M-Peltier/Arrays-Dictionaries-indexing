{
 "cells": [
  {
   "cell_type": "code",
   "execution_count": 1,
   "id": "7cc3a98b-aba2-42b6-b838-9bc52ec2b456",
   "metadata": {},
   "outputs": [],
   "source": [
    "import numpy as np\n",
    "import pandas as pd\n",
    "import random"
   ]
  },
  {
   "cell_type": "code",
   "execution_count": 2,
   "id": "62d157ce-d97b-45ef-ae89-99d92a5c07c2",
   "metadata": {},
   "outputs": [
    {
     "data": {
      "text/plain": [
       "array([[1, 1, 1],\n",
       "       [1, 1, 1]])"
      ]
     },
     "execution_count": 2,
     "metadata": {},
     "output_type": "execute_result"
    }
   ],
   "source": [
    "#7.1 creates 2 by 3 array with ones\n",
    "np.ones((2,3), dtype=int)"
   ]
  },
  {
   "cell_type": "code",
   "execution_count": 3,
   "id": "4affbfe3-1dd5-45c9-9551-95206228957f",
   "metadata": {},
   "outputs": [
    {
     "data": {
      "text/plain": [
       "array([[0, 0, 0, 0],\n",
       "       [0, 0, 0, 0],\n",
       "       [0, 0, 0, 0]])"
      ]
     },
     "execution_count": 3,
     "metadata": {},
     "output_type": "execute_result"
    }
   ],
   "source": [
    "# 3 by 4 array with zeroes\n",
    "np.zeros((3,4), dtype=int)"
   ]
  },
  {
   "cell_type": "code",
   "execution_count": 4,
   "id": "85a28225-efa1-4c2b-a4bf-736329803066",
   "metadata": {},
   "outputs": [
    {
     "data": {
      "text/plain": [
       "array([[7, 7, 7, 7, 7],\n",
       "       [7, 7, 7, 7, 7]])"
      ]
     },
     "execution_count": 4,
     "metadata": {},
     "output_type": "execute_result"
    }
   ],
   "source": [
    "# The expression np.full((2, 5), 7) creates a NumPy array of shape (2, 5) (2 rows and 5 columns) filled with the value 7.\n",
    "np.full((2,5), 7)"
   ]
  },
  {
   "cell_type": "code",
   "execution_count": 5,
   "id": "0951c6e7-8c93-495b-9962-b1e85ddb8c89",
   "metadata": {},
   "outputs": [
    {
     "data": {
      "text/plain": [
       "array([0, 1, 2, 3])"
      ]
     },
     "execution_count": 5,
     "metadata": {},
     "output_type": "execute_result"
    }
   ],
   "source": [
    "# array of evenly spaced values within a given range. Specifically, np.arange(4) generates an array containing integers from 0 to 3.\n",
    "np.arange(4)"
   ]
  },
  {
   "cell_type": "code",
   "execution_count": 6,
   "id": "06cc1bc1-1275-4942-81ba-8e30326904fb",
   "metadata": {},
   "outputs": [
    {
     "data": {
      "text/plain": [
       "array([[0, 1],\n",
       "       [2, 3]])"
      ]
     },
     "execution_count": 6,
     "metadata": {},
     "output_type": "execute_result"
    }
   ],
   "source": [
    "# np.arange(0, 4) generates the array The .reshape(2, 2) method then reshapes this 1D array into a 2D array with 2 rows and 2 columns.\n",
    "np.arange(0,4).reshape(2,2)"
   ]
  },
  {
   "cell_type": "code",
   "execution_count": 7,
   "id": "c69697ed-9485-4676-ae4d-717317c0e255",
   "metadata": {},
   "outputs": [
    {
     "data": {
      "text/plain": [
       "array([[ 0,  1],\n",
       "       [ 8, 27]], dtype=int32)"
      ]
     },
     "execution_count": 7,
     "metadata": {},
     "output_type": "execute_result"
    }
   ],
   "source": [
    "#The expression np.arange(4).reshape(2, 2)**3 first creates an array using np.arange(4), \n",
    "#reshapes it into a 2x2 matrix, and then raises each element of that matrix to the power of 3.\n",
    "np.arange(4).reshape(2,2)**3"
   ]
  },
  {
   "cell_type": "code",
   "execution_count": 8,
   "id": "83cb2729-dde1-4c82-93b8-007e3e2eea8c",
   "metadata": {},
   "outputs": [
    {
     "data": {
      "text/plain": [
       "array([[ 7,  8],\n",
       "       [ 9, 10]])"
      ]
     },
     "execution_count": 8,
     "metadata": {},
     "output_type": "execute_result"
    }
   ],
   "source": [
    "#The expression np.arange(4).reshape(2, 2)**3 first creates an array using np.arange(4), \n",
    "#reshapes it into a 2x2 matrix, and then adds each element of that matrix plus 7.\n",
    "np.arange(4).reshape(2,2)+7"
   ]
  },
  {
   "cell_type": "code",
   "execution_count": 9,
   "id": "293c67ee-10ce-498c-b7d3-d23a5608c2f0",
   "metadata": {},
   "outputs": [
    {
     "data": {
      "text/plain": [
       "array([[0, 2],\n",
       "       [4, 6]])"
      ]
     },
     "execution_count": 9,
     "metadata": {},
     "output_type": "execute_result"
    }
   ],
   "source": [
    "#The expression np.arange(4).reshape(2, 2)**3 first creates an array using np.arange(4), \n",
    "#reshapes it into a 2x2 matrix, and then multiplies each element of that matrix by 2.\n",
    "np.arange(4).reshape(2,2)*2"
   ]
  },
  {
   "cell_type": "code",
   "execution_count": 10,
   "id": "9626531c-5196-4ac2-ae80-807112cfa41f",
   "metadata": {},
   "outputs": [],
   "source": [
    "#7.3 The expression a = np.arange(2, 19, 2).reshape(3, 3) \n",
    "#creates a NumPy array with specific values and reshapes it into a 3x3 matrix. \n",
    "a = np.arange(2,19,2).reshape(3,3)"
   ]
  },
  {
   "cell_type": "code",
   "execution_count": 11,
   "id": "30c15a2f-3bdf-4cf6-a11d-73d9be3f1449",
   "metadata": {},
   "outputs": [
    {
     "data": {
      "text/plain": [
       "array([[ 2,  4,  6],\n",
       "       [ 8, 10, 12],\n",
       "       [14, 16, 18]])"
      ]
     },
     "execution_count": 11,
     "metadata": {},
     "output_type": "execute_result"
    }
   ],
   "source": [
    "a"
   ]
  },
  {
   "cell_type": "code",
   "execution_count": 12,
   "id": "f9b83b40-5e7f-4ea0-a380-5d1099242c9e",
   "metadata": {},
   "outputs": [],
   "source": [
    "#The expression b = np.arange(9, 0, -1).reshape(3, 3) creates a NumPy array that counts down from 9 to 1 and reshapes it into a 3x3 matrix. \n",
    "b = np.arange(9,0,-1).reshape(3,3)"
   ]
  },
  {
   "cell_type": "code",
   "execution_count": 13,
   "id": "d5416a0e-2dff-4aff-9d66-4840e01e6abb",
   "metadata": {},
   "outputs": [
    {
     "data": {
      "text/plain": [
       "array([[9, 8, 7],\n",
       "       [6, 5, 4],\n",
       "       [3, 2, 1]])"
      ]
     },
     "execution_count": 13,
     "metadata": {},
     "output_type": "execute_result"
    }
   ],
   "source": [
    "b"
   ]
  },
  {
   "cell_type": "code",
   "execution_count": 14,
   "id": "8102bb21-521e-4025-b61a-f72e201ea1a2",
   "metadata": {},
   "outputs": [
    {
     "data": {
      "text/plain": [
       "array([[18, 32, 42],\n",
       "       [48, 50, 48],\n",
       "       [42, 32, 18]])"
      ]
     },
     "execution_count": 14,
     "metadata": {},
     "output_type": "execute_result"
    }
   ],
   "source": [
    "#Given the matrices a and b as defined earlier, performing the operation a * b will result in element-wise multiplication.\n",
    "a*b"
   ]
  },
  {
   "cell_type": "code",
   "execution_count": 15,
   "id": "6ae5c5e8-8b7f-40cd-856e-854ba1e33e98",
   "metadata": {},
   "outputs": [
    {
     "name": "stdout",
     "output_type": "stream",
     "text": [
      "Array 1:\n",
      "[[ 2  4  6]\n",
      " [ 8 10 12]\n",
      " [14 16 18]]\n",
      "\n",
      "Array 2:\n",
      "[[16 16 16]\n",
      " [16 16 16]\n",
      " [16 16 16]]\n",
      "\n",
      "Result of multiplication:\n",
      "[[ 32  64  96]\n",
      " [128 160 192]\n",
      " [224 256 288]]\n"
     ]
    }
   ],
   "source": [
    "#7.4 create 3 by 3 array even int 2 through 18 second array and multiply both arrays[16]\n",
    "import numpy as np\n",
    "\n",
    "# Create the first array of even integers from 2 to 18\n",
    "array_1 = np.arange(2, 19, 2).reshape(3, 3)\n",
    "\n",
    "# Create the second array filled with 16s\n",
    "array_2 = np.full((3, 3), 16)\n",
    "\n",
    "# Multiply both arrays\n",
    "result = array_1 * array_2\n",
    "\n",
    "print(\"Array 1:\")\n",
    "print(array_1)\n",
    "print(\"\\nArray 2:\")\n",
    "print(array_2)\n",
    "print(\"\\nResult of multiplication:\")\n",
    "print(result)\n"
   ]
  },
  {
   "cell_type": "code",
   "execution_count": 16,
   "id": "27ff18e2-54d4-495b-b8eb-5a02a53eea80",
   "metadata": {},
   "outputs": [
    {
     "data": {
      "text/plain": [
       "array([[ 1,  2,  4],\n",
       "       [ 8, 16, 32]], dtype=int32)"
      ]
     },
     "execution_count": 16,
     "metadata": {},
     "output_type": "execute_result"
    }
   ],
   "source": [
    "#7.5 flattening arrays with flatten vs. ravel\n",
    "#2 by 3 array containing the first six powers of 2\n",
    "d=2**np.arange(6).reshape(2,3)\n",
    "d"
   ]
  },
  {
   "cell_type": "code",
   "execution_count": 17,
   "id": "c2dcb54e-9407-48af-948e-623f1e02dda5",
   "metadata": {},
   "outputs": [],
   "source": [
    "#The expression e = d.flatten() takes the 2D array d and converts it into a 1D array.\n",
    "e=d.flatten()"
   ]
  },
  {
   "cell_type": "code",
   "execution_count": 18,
   "id": "e3d3972c-7931-4830-ab61-9a66934c056a",
   "metadata": {},
   "outputs": [
    {
     "data": {
      "text/plain": [
       "array([ 1,  2,  4,  8, 16, 32], dtype=int32)"
      ]
     },
     "execution_count": 18,
     "metadata": {},
     "output_type": "execute_result"
    }
   ],
   "source": [
    "e"
   ]
  },
  {
   "cell_type": "code",
   "execution_count": 19,
   "id": "0383371f-dc12-49b3-8067-6326a7f515f6",
   "metadata": {},
   "outputs": [
    {
     "data": {
      "text/plain": [
       "array([[ 1,  2,  4],\n",
       "       [ 8, 16, 32]], dtype=int32)"
      ]
     },
     "execution_count": 19,
     "metadata": {},
     "output_type": "execute_result"
    }
   ],
   "source": [
    "#d array has not been changed\n",
    "d"
   ]
  },
  {
   "cell_type": "code",
   "execution_count": 20,
   "id": "3b07d6eb-8b30-428a-9cba-442ead2f6223",
   "metadata": {},
   "outputs": [
    {
     "data": {
      "text/plain": [
       "array([ 1,  2,  4,  8, 16, 32], dtype=int32)"
      ]
     },
     "execution_count": 20,
     "metadata": {},
     "output_type": "execute_result"
    }
   ],
   "source": [
    "#The expression f = d.ravel() also converts the 2D array d into a 1D array, similar to flatten().\n",
    "#However, ravel() returns a flattened array that is a view of the original array whenever possible, \n",
    "#meaning it may not create a copy of the data if not necessary.\n",
    "f=d.ravel()\n",
    "f"
   ]
  },
  {
   "cell_type": "code",
   "execution_count": 21,
   "id": "4ebe58c9-a50b-488e-b632-7c84f01a065e",
   "metadata": {},
   "outputs": [
    {
     "data": {
      "text/plain": [
       "array([[ 1,  2,  4],\n",
       "       [ 8, 16, 32]], dtype=int32)"
      ]
     },
     "execution_count": 21,
     "metadata": {},
     "output_type": "execute_result"
    }
   ],
   "source": [
    "d"
   ]
  },
  {
   "cell_type": "code",
   "execution_count": 22,
   "id": "1fbe3df9-6c6d-4bf0-9214-328dfb40692d",
   "metadata": {},
   "outputs": [],
   "source": [
    "#7.6The expression g = np.linspace(1.1, 6.6, num=6).reshape(2, 3) \n",
    "#creates an array with evenly spaced values between 1.1 and 6.6, \n",
    "# and then reshapes it into a 2x3 matrix. \n",
    "g=np.linspace(1.1,6.6,num=6).reshape(2,3)"
   ]
  },
  {
   "cell_type": "code",
   "execution_count": 23,
   "id": "71f5132c-1c7e-4127-9978-10683df4eda1",
   "metadata": {},
   "outputs": [
    {
     "data": {
      "text/plain": [
       "array([[1.1, 2.2, 3.3],\n",
       "       [4.4, 5.5, 6.6]])"
      ]
     },
     "execution_count": 23,
     "metadata": {},
     "output_type": "execute_result"
    }
   ],
   "source": [
    "g"
   ]
  },
  {
   "cell_type": "code",
   "execution_count": 24,
   "id": "c6e098e1-6bae-4c2e-a1e7-acf2fabffb16",
   "metadata": {},
   "outputs": [],
   "source": [
    "#The expression df = g.astype(int) converts the elements of the array g to integers\n",
    "df=g.astype(int)"
   ]
  },
  {
   "cell_type": "code",
   "execution_count": 25,
   "id": "cb7be9a3-b23e-4518-b34b-b1fdb29fe712",
   "metadata": {},
   "outputs": [
    {
     "data": {
      "text/plain": [
       "array([[1, 2, 3],\n",
       "       [4, 5, 6]])"
      ]
     },
     "execution_count": 25,
     "metadata": {},
     "output_type": "execute_result"
    }
   ],
   "source": [
    "df"
   ]
  },
  {
   "cell_type": "code",
   "execution_count": 26,
   "id": "f2044ba2-bf47-4de0-8d9f-1e7301e65278",
   "metadata": {},
   "outputs": [
    {
     "data": {
      "text/plain": [
       "array([[ 1,  2,  3,  4,  5],\n",
       "       [ 6,  7,  8,  9, 10],\n",
       "       [11, 12, 13, 14, 15]])"
      ]
     },
     "execution_count": 26,
     "metadata": {},
     "output_type": "execute_result"
    }
   ],
   "source": [
    "#7.9 The expression h = np.arange(1, 16).reshape(3, 5) creates a NumPy array with integers ranging from 1 to 15 and reshapes it into a 3x5 matrix.\n",
    "h=np.arange(1,16).reshape(3,5)\n",
    "h"
   ]
  },
  {
   "cell_type": "code",
   "execution_count": 27,
   "id": "b7fe3a2b-514d-4328-be05-9948c9412841",
   "metadata": {},
   "outputs": [
    {
     "data": {
      "text/plain": [
       "array([ 6,  7,  8,  9, 10])"
      ]
     },
     "execution_count": 27,
     "metadata": {},
     "output_type": "execute_result"
    }
   ],
   "source": [
    "#The expression h[1] accesses the second row of the array h.\n",
    "h[1]"
   ]
  },
  {
   "cell_type": "code",
   "execution_count": 28,
   "id": "82e3f4ac-4ba0-46db-9ff3-e19c39312ec0",
   "metadata": {},
   "outputs": [
    {
     "data": {
      "text/plain": [
       "array([ 5, 10, 15])"
      ]
     },
     "execution_count": 28,
     "metadata": {},
     "output_type": "execute_result"
    }
   ],
   "source": [
    "#The expression h[:, 4] accesses all rows of the 5th column (index 4) in the array h\n",
    "h[:, 4]"
   ]
  },
  {
   "cell_type": "code",
   "execution_count": 29,
   "id": "b6299e20-99c5-4b51-ab7f-72c75a464eaa",
   "metadata": {},
   "outputs": [
    {
     "data": {
      "text/plain": [
       "array([[ 1,  2,  3,  4,  5],\n",
       "       [ 6,  7,  8,  9, 10]])"
      ]
     },
     "execution_count": 29,
     "metadata": {},
     "output_type": "execute_result"
    }
   ],
   "source": [
    "#rows 0 and 1\n",
    "h[:2]"
   ]
  },
  {
   "cell_type": "code",
   "execution_count": 30,
   "id": "83c8b3f8-3202-4172-8031-a966ac7480f7",
   "metadata": {},
   "outputs": [
    {
     "data": {
      "text/plain": [
       "array([[ 3,  4,  5],\n",
       "       [ 8,  9, 10],\n",
       "       [13, 14, 15]])"
      ]
     },
     "execution_count": 30,
     "metadata": {},
     "output_type": "execute_result"
    }
   ],
   "source": [
    "#d columns 2-4\n",
    "h[:,2:5]"
   ]
  },
  {
   "cell_type": "code",
   "execution_count": 31,
   "id": "d9d13919-5c0f-4057-84d4-da7f8e02114c",
   "metadata": {},
   "outputs": [
    {
     "data": {
      "text/plain": [
       "10"
      ]
     },
     "execution_count": 31,
     "metadata": {},
     "output_type": "execute_result"
    }
   ],
   "source": [
    "#e element in row 1 and column 4\n",
    "h[1,4]"
   ]
  },
  {
   "cell_type": "code",
   "execution_count": 32,
   "id": "f99c356d-7ecb-404b-b6b7-3125f97a544e",
   "metadata": {},
   "outputs": [
    {
     "data": {
      "text/plain": [
       "array([[ 1,  2,  3,  4,  5],\n",
       "       [ 6,  7,  8,  9, 10]])"
      ]
     },
     "execution_count": 32,
     "metadata": {},
     "output_type": "execute_result"
    }
   ],
   "source": [
    "h[:2]"
   ]
  },
  {
   "cell_type": "code",
   "execution_count": null,
   "id": "544822c5-2c32-4af6-a247-4d89de611fe8",
   "metadata": {},
   "outputs": [],
   "source": [
    "\n"
   ]
  },
  {
   "cell_type": "code",
   "execution_count": 33,
   "id": "f23397cc-6ef6-46b8-a4d2-2114c2bfb1d9",
   "metadata": {},
   "outputs": [
    {
     "data": {
      "text/plain": [
       "array([[ 2,  4,  6],\n",
       "       [ 8, 10, 12],\n",
       "       [14, 16, 18]])"
      ]
     },
     "execution_count": 33,
     "metadata": {},
     "output_type": "execute_result"
    }
   ],
   "source": [
    "#The overall effect of this code is to create a new array that includes all elements from a whose rows are not present in b,\n",
    "#flattened into a 1D array and then reshaped into the original number of columns from a.\n",
    "delta = set(map(tuple, b))\n",
    "np.fromiter((x for xs in a if tuple(xs) not in delta for x in xs), dtype=a.dtype).reshape(-1, a.shape[-1])\n"
   ]
  },
  {
   "cell_type": "code",
   "execution_count": 34,
   "id": "8bb4f568-5499-4182-8222-26c85dcdccad",
   "metadata": {},
   "outputs": [],
   "source": [
    "#creates two NumPy arrays, array1 and array2, and then attempts to vertically stack them and reshape the result."
   ]
  },
  {
   "cell_type": "code",
   "execution_count": 35,
   "id": "be00dfb1-0b51-4b50-8b1e-3f5e30119ed2",
   "metadata": {},
   "outputs": [
    {
     "data": {
      "text/plain": [
       "array([[0, 1],\n",
       "       [2, 3]])"
      ]
     },
     "execution_count": 35,
     "metadata": {},
     "output_type": "execute_result"
    }
   ],
   "source": [
    "array1 = np.array([[0,1], [2,3]])\n",
    "array1"
   ]
  },
  {
   "cell_type": "code",
   "execution_count": 36,
   "id": "26f4965d-7808-4063-85b4-2fb4dc46a7ee",
   "metadata": {},
   "outputs": [
    {
     "data": {
      "text/plain": [
       "array([[4, 5],\n",
       "       [6, 7]])"
      ]
     },
     "execution_count": 36,
     "metadata": {},
     "output_type": "execute_result"
    }
   ],
   "source": [
    "array2 = np.array([[4,5], [6,7]])\n",
    "array2"
   ]
  },
  {
   "cell_type": "code",
   "execution_count": 37,
   "id": "4bdf63e5-a11e-48c4-93e0-4c64eac2acb3",
   "metadata": {},
   "outputs": [
    {
     "data": {
      "text/plain": [
       "array([[0, 1, 2, 3],\n",
       "       [4, 5, 6, 7]])"
      ]
     },
     "execution_count": 37,
     "metadata": {},
     "output_type": "execute_result"
    }
   ],
   "source": [
    "array3 =np.vstack((array1, array2)).reshape(2,4)\n",
    "array3"
   ]
  },
  {
   "cell_type": "code",
   "execution_count": 38,
   "id": "220de771-b1ea-49d1-973d-fafff6967580",
   "metadata": {},
   "outputs": [],
   "source": [
    "array4 = np.hstack((array1, array2)).reshape(2,4)"
   ]
  },
  {
   "cell_type": "code",
   "execution_count": 39,
   "id": "77d54f57-7271-4144-80c9-ec4a7ce28c5a",
   "metadata": {},
   "outputs": [
    {
     "data": {
      "text/plain": [
       "array([[0, 1, 4, 5],\n",
       "       [2, 3, 6, 7]])"
      ]
     },
     "execution_count": 39,
     "metadata": {},
     "output_type": "execute_result"
    }
   ],
   "source": [
    "array4"
   ]
  },
  {
   "cell_type": "code",
   "execution_count": 40,
   "id": "a4c2507a-8931-4a36-ab31-d2a43d9f39af",
   "metadata": {},
   "outputs": [],
   "source": [
    "array5= np.vstack(array4*2)"
   ]
  },
  {
   "cell_type": "code",
   "execution_count": 41,
   "id": "4e5acb4a-1715-49de-ad3b-50ac852f77e0",
   "metadata": {},
   "outputs": [
    {
     "data": {
      "text/plain": [
       "array([[ 0,  2,  8, 10],\n",
       "       [ 4,  6, 12, 14]])"
      ]
     },
     "execution_count": 41,
     "metadata": {},
     "output_type": "execute_result"
    }
   ],
   "source": [
    "array5"
   ]
  },
  {
   "cell_type": "code",
   "execution_count": 42,
   "id": "de7d1c80-0a54-4397-9c90-1373a0a65b0f",
   "metadata": {},
   "outputs": [],
   "source": [
    "#a\n",
    "number = pd.Series([7,11,13,17])"
   ]
  },
  {
   "cell_type": "code",
   "execution_count": 43,
   "id": "bc3f3ea6-b1ce-4b96-9443-1c9a58391707",
   "metadata": {},
   "outputs": [
    {
     "data": {
      "text/plain": [
       "0     7\n",
       "1    11\n",
       "2    13\n",
       "3    17\n",
       "dtype: int64"
      ]
     },
     "execution_count": 43,
     "metadata": {},
     "output_type": "execute_result"
    }
   ],
   "source": [
    "number"
   ]
  },
  {
   "cell_type": "code",
   "execution_count": 44,
   "id": "140f1164-424a-4cd8-961d-52f302614304",
   "metadata": {},
   "outputs": [],
   "source": [
    "#The line of code you provided creates a Pandas Series named number with the values [7, 11, 13, 17].\n",
    "#The pd.Series constructor takes a list (or other iterable) as input and creates a Series object.\n",
    "n = pd.Series(100, range(5))"
   ]
  },
  {
   "cell_type": "code",
   "execution_count": 45,
   "id": "6418ccbd-ab22-4110-93e9-9bd280cfa9e3",
   "metadata": {},
   "outputs": [
    {
     "data": {
      "text/plain": [
       "0    100\n",
       "1    100\n",
       "2    100\n",
       "3    100\n",
       "4    100\n",
       "dtype: int64"
      ]
     },
     "execution_count": 45,
     "metadata": {},
     "output_type": "execute_result"
    }
   ],
   "source": [
    "n"
   ]
  },
  {
   "cell_type": "code",
   "execution_count": 46,
   "id": "f0e2c2b8-e5ab-4534-9939-efec3f68672c",
   "metadata": {},
   "outputs": [],
   "source": [
    "#Importing the random Module: You need to import the random module to use its functions.\n",
    "#Generating the Range: range(0, 101) creates an iterable of numbers from 0 to 100 (inclusive).\n",
    "#Sampling: random.sample(range(0, 101), 20) randomly selects 20 unique integers from this range. \n",
    "#Since the sample size is 20, it will select without replacement, meaning no number will appear more than once in the list.\n",
    "num= random.sample(range(0,101), 20)"
   ]
  },
  {
   "cell_type": "code",
   "execution_count": 47,
   "id": "70d87fbe-046c-49f5-bb28-05806b4013a6",
   "metadata": {},
   "outputs": [
    {
     "data": {
      "text/plain": [
       "[59, 20, 62, 85, 34, 14, 36, 86, 1, 56, 57, 4, 77, 18, 88, 58, 16, 25, 24, 9]"
      ]
     },
     "execution_count": 47,
     "metadata": {},
     "output_type": "execute_result"
    }
   ],
   "source": [
    "num"
   ]
  },
  {
   "cell_type": "code",
   "execution_count": 48,
   "id": "4525a9e0-867c-4a63-8d3f-29d1df626894",
   "metadata": {},
   "outputs": [
    {
     "data": {
      "text/plain": [
       "count    20.000000\n",
       "mean     41.450000\n",
       "std      28.958182\n",
       "min       1.000000\n",
       "25%      17.500000\n",
       "50%      35.000000\n",
       "75%      59.750000\n",
       "max      88.000000\n",
       "dtype: float64"
      ]
     },
     "execution_count": 48,
     "metadata": {},
     "output_type": "execute_result"
    }
   ],
   "source": [
    "#numb.describe(), computes and returns the following summary statistics:\n",
    "numb = pd.Series(num)\n",
    "numb.describe()"
   ]
  },
  {
   "cell_type": "code",
   "execution_count": 49,
   "id": "1d7fb772-afcc-40ba-864d-cac5a07c787e",
   "metadata": {},
   "outputs": [],
   "source": [
    "#creates a Pandas Series named temperatures with specific temperature values, \n",
    "#each associated with an index label representing a person's name.\n",
    "temperatures = pd.Series([98.6,98.9,100.2,97.9], index=['Julie', 'Charlie', 'Sam', 'Andrea'])"
   ]
  },
  {
   "cell_type": "code",
   "execution_count": 50,
   "id": "dd2b029d-6a48-4ec7-94aa-5bf4933bc963",
   "metadata": {},
   "outputs": [
    {
     "data": {
      "text/plain": [
       "Julie       98.6\n",
       "Charlie     98.9\n",
       "Sam        100.2\n",
       "Andrea      97.9\n",
       "dtype: float64"
      ]
     },
     "execution_count": 50,
     "metadata": {},
     "output_type": "execute_result"
    }
   ],
   "source": [
    "temperatures"
   ]
  },
  {
   "cell_type": "code",
   "execution_count": 51,
   "id": "c058c8f8-ba9e-49d8-99b7-197443333ded",
   "metadata": {},
   "outputs": [],
   "source": [
    "#The line of code dict = temperatures.to_dict() converts the Pandas Series temperatures into a Python dictionary.\n",
    "dict= temperatures.to_dict()"
   ]
  },
  {
   "cell_type": "code",
   "execution_count": 52,
   "id": "bece83f3-497b-4dec-a2b4-47f168658f61",
   "metadata": {},
   "outputs": [
    {
     "data": {
      "text/plain": [
       "{'Julie': 98.6, 'Charlie': 98.9, 'Sam': 100.2, 'Andrea': 97.9}"
      ]
     },
     "execution_count": 52,
     "metadata": {},
     "output_type": "execute_result"
    }
   ],
   "source": [
    "dict"
   ]
  },
  {
   "cell_type": "code",
   "execution_count": 53,
   "id": "170b0b03-02e5-43d5-be57-120ea26bbbba",
   "metadata": {},
   "outputs": [
    {
     "data": {
      "text/html": [
       "<div>\n",
       "<style scoped>\n",
       "    .dataframe tbody tr th:only-of-type {\n",
       "        vertical-align: middle;\n",
       "    }\n",
       "\n",
       "    .dataframe tbody tr th {\n",
       "        vertical-align: top;\n",
       "    }\n",
       "\n",
       "    .dataframe thead th {\n",
       "        text-align: right;\n",
       "    }\n",
       "</style>\n",
       "<table border=\"1\" class=\"dataframe\">\n",
       "  <thead>\n",
       "    <tr style=\"text-align: right;\">\n",
       "      <th></th>\n",
       "      <th>Julie</th>\n",
       "      <th>Charlie</th>\n",
       "      <th>Sam</th>\n",
       "      <th>Andrea</th>\n",
       "    </tr>\n",
       "  </thead>\n",
       "  <tbody>\n",
       "    <tr>\n",
       "      <th>TEMP</th>\n",
       "      <td>98.6</td>\n",
       "      <td>98.9</td>\n",
       "      <td>100.2</td>\n",
       "      <td>97.9</td>\n",
       "    </tr>\n",
       "  </tbody>\n",
       "</table>\n",
       "</div>"
      ],
      "text/plain": [
       "      Julie  Charlie    Sam  Andrea\n",
       "TEMP   98.6     98.9  100.2    97.9"
      ]
     },
     "execution_count": 53,
     "metadata": {},
     "output_type": "execute_result"
    }
   ],
   "source": [
    "#The line of code pd.DataFrame(dict, index=['TEMP']) attempts to create a Pandas DataFrame \n",
    "#from the dictionary created from the temperatures Series. \n",
    "pd.DataFrame(dict, index=['TEMP'])"
   ]
  },
  {
   "cell_type": "code",
   "execution_count": 54,
   "id": "278d29cd-100a-4180-93e0-780f4592a236",
   "metadata": {},
   "outputs": [
    {
     "data": {
      "text/plain": [
       "{'Maxine': [96.8, 97, 99],\n",
       " 'James': [97.2, 98.3, 100.3],\n",
       " 'Amanda': [97.4, 98.2, 99.2]}"
      ]
     },
     "execution_count": 54,
     "metadata": {},
     "output_type": "execute_result"
    }
   ],
   "source": [
    "#The line of code provided creates a dictionary named temperature that holds lists of temperature readings for different individuals. \n",
    "temperature = {'Maxine': [96.8, 97, 99], 'James': [97.2, 98.3, 100.3], 'Amanda': [97.4,98.2,99.2]}\n",
    "temperature"
   ]
  },
  {
   "cell_type": "code",
   "execution_count": 55,
   "id": "dd782203-50e8-42c3-bd2a-7dfa7aee7036",
   "metadata": {},
   "outputs": [],
   "source": [
    "#The line of code time = pd.DataFrame(temperature, index=['Morning', 'Afternoon', 'Evening']) \n",
    "#creates a Pandas DataFrame from the temperature dictionary you defined earlier.\n",
    "time = pd.DataFrame(temperature, index=['Morning', 'Afternoon', 'Evening'])"
   ]
  },
  {
   "cell_type": "code",
   "execution_count": 56,
   "id": "36682100-b897-49a2-91ff-e62e71e94706",
   "metadata": {},
   "outputs": [
    {
     "data": {
      "text/html": [
       "<div>\n",
       "<style scoped>\n",
       "    .dataframe tbody tr th:only-of-type {\n",
       "        vertical-align: middle;\n",
       "    }\n",
       "\n",
       "    .dataframe tbody tr th {\n",
       "        vertical-align: top;\n",
       "    }\n",
       "\n",
       "    .dataframe thead th {\n",
       "        text-align: right;\n",
       "    }\n",
       "</style>\n",
       "<table border=\"1\" class=\"dataframe\">\n",
       "  <thead>\n",
       "    <tr style=\"text-align: right;\">\n",
       "      <th></th>\n",
       "      <th>Maxine</th>\n",
       "      <th>James</th>\n",
       "      <th>Amanda</th>\n",
       "    </tr>\n",
       "  </thead>\n",
       "  <tbody>\n",
       "    <tr>\n",
       "      <th>Morning</th>\n",
       "      <td>96.8</td>\n",
       "      <td>97.2</td>\n",
       "      <td>97.4</td>\n",
       "    </tr>\n",
       "    <tr>\n",
       "      <th>Afternoon</th>\n",
       "      <td>97.0</td>\n",
       "      <td>98.3</td>\n",
       "      <td>98.2</td>\n",
       "    </tr>\n",
       "    <tr>\n",
       "      <th>Evening</th>\n",
       "      <td>99.0</td>\n",
       "      <td>100.3</td>\n",
       "      <td>99.2</td>\n",
       "    </tr>\n",
       "  </tbody>\n",
       "</table>\n",
       "</div>"
      ],
      "text/plain": [
       "           Maxine  James  Amanda\n",
       "Morning      96.8   97.2    97.4\n",
       "Afternoon    97.0   98.3    98.2\n",
       "Evening      99.0  100.3    99.2"
      ]
     },
     "execution_count": 56,
     "metadata": {},
     "output_type": "execute_result"
    }
   ],
   "source": [
    "time"
   ]
  },
  {
   "cell_type": "code",
   "execution_count": 57,
   "id": "59a673f7-5aa9-44d5-b0cf-f195e261a034",
   "metadata": {},
   "outputs": [
    {
     "data": {
      "text/plain": [
       "Morning      96.8\n",
       "Afternoon    97.0\n",
       "Evening      99.0\n",
       "Name: Maxine, dtype: float64"
      ]
     },
     "execution_count": 57,
     "metadata": {},
     "output_type": "execute_result"
    }
   ],
   "source": [
    "#cThe expression time['Maxine'] accesses the column in the DataFrame time corresponding to the key 'Maxine'. \n",
    "#Given the DataFrame created from the temperature dictionary, \n",
    "#this will return the temperature readings for Maxine at different times of the day.\n",
    "time['Maxine']"
   ]
  },
  {
   "cell_type": "code",
   "execution_count": 58,
   "id": "624ba314-0da3-45df-988b-318f5131f607",
   "metadata": {},
   "outputs": [
    {
     "data": {
      "text/html": [
       "<div>\n",
       "<style scoped>\n",
       "    .dataframe tbody tr th:only-of-type {\n",
       "        vertical-align: middle;\n",
       "    }\n",
       "\n",
       "    .dataframe tbody tr th {\n",
       "        vertical-align: top;\n",
       "    }\n",
       "\n",
       "    .dataframe thead th {\n",
       "        text-align: right;\n",
       "    }\n",
       "</style>\n",
       "<table border=\"1\" class=\"dataframe\">\n",
       "  <thead>\n",
       "    <tr style=\"text-align: right;\">\n",
       "      <th></th>\n",
       "      <th>Maxine</th>\n",
       "      <th>James</th>\n",
       "      <th>Amanda</th>\n",
       "    </tr>\n",
       "  </thead>\n",
       "  <tbody>\n",
       "    <tr>\n",
       "      <th>Morning</th>\n",
       "      <td>96.8</td>\n",
       "      <td>97.2</td>\n",
       "      <td>97.4</td>\n",
       "    </tr>\n",
       "  </tbody>\n",
       "</table>\n",
       "</div>"
      ],
      "text/plain": [
       "         Maxine  James  Amanda\n",
       "Morning    96.8   97.2    97.4"
      ]
     },
     "execution_count": 58,
     "metadata": {},
     "output_type": "execute_result"
    }
   ],
   "source": [
    "#The expression time[0:1] is used to slice the DataFrame time to select the first row (or rows) based on its positional index.\n",
    "time[0:1]"
   ]
  },
  {
   "cell_type": "code",
   "execution_count": 59,
   "id": "3deb97b7-5094-454a-b70f-c590abf4701b",
   "metadata": {},
   "outputs": [
    {
     "data": {
      "text/html": [
       "<div>\n",
       "<style scoped>\n",
       "    .dataframe tbody tr th:only-of-type {\n",
       "        vertical-align: middle;\n",
       "    }\n",
       "\n",
       "    .dataframe tbody tr th {\n",
       "        vertical-align: top;\n",
       "    }\n",
       "\n",
       "    .dataframe thead th {\n",
       "        text-align: right;\n",
       "    }\n",
       "</style>\n",
       "<table border=\"1\" class=\"dataframe\">\n",
       "  <thead>\n",
       "    <tr style=\"text-align: right;\">\n",
       "      <th></th>\n",
       "      <th>Maxine</th>\n",
       "      <th>James</th>\n",
       "      <th>Amanda</th>\n",
       "    </tr>\n",
       "  </thead>\n",
       "  <tbody>\n",
       "    <tr>\n",
       "      <th>Morning</th>\n",
       "      <td>96.8</td>\n",
       "      <td>97.2</td>\n",
       "      <td>97.4</td>\n",
       "    </tr>\n",
       "    <tr>\n",
       "      <th>Evening</th>\n",
       "      <td>99.0</td>\n",
       "      <td>100.3</td>\n",
       "      <td>99.2</td>\n",
       "    </tr>\n",
       "  </tbody>\n",
       "</table>\n",
       "</div>"
      ],
      "text/plain": [
       "         Maxine  James  Amanda\n",
       "Morning    96.8   97.2    97.4\n",
       "Evening    99.0  100.3    99.2"
      ]
     },
     "execution_count": 59,
     "metadata": {},
     "output_type": "execute_result"
    }
   ],
   "source": [
    "#The expression time[0:3:2] slices the DataFrame time using the positional index, selecting rows from index 0 to 3 with a step of 2.\n",
    "time[0:3:2]"
   ]
  },
  {
   "cell_type": "code",
   "execution_count": 60,
   "id": "2377e8e4-d33f-4eff-9aef-d7dfac484f27",
   "metadata": {},
   "outputs": [
    {
     "data": {
      "text/html": [
       "<div>\n",
       "<style scoped>\n",
       "    .dataframe tbody tr th:only-of-type {\n",
       "        vertical-align: middle;\n",
       "    }\n",
       "\n",
       "    .dataframe tbody tr th {\n",
       "        vertical-align: top;\n",
       "    }\n",
       "\n",
       "    .dataframe thead th {\n",
       "        text-align: right;\n",
       "    }\n",
       "</style>\n",
       "<table border=\"1\" class=\"dataframe\">\n",
       "  <thead>\n",
       "    <tr style=\"text-align: right;\">\n",
       "      <th></th>\n",
       "      <th>Maxine</th>\n",
       "      <th>Amanda</th>\n",
       "    </tr>\n",
       "  </thead>\n",
       "  <tbody>\n",
       "    <tr>\n",
       "      <th>Morning</th>\n",
       "      <td>96.8</td>\n",
       "      <td>97.4</td>\n",
       "    </tr>\n",
       "    <tr>\n",
       "      <th>Afternoon</th>\n",
       "      <td>97.0</td>\n",
       "      <td>98.2</td>\n",
       "    </tr>\n",
       "    <tr>\n",
       "      <th>Evening</th>\n",
       "      <td>99.0</td>\n",
       "      <td>99.2</td>\n",
       "    </tr>\n",
       "  </tbody>\n",
       "</table>\n",
       "</div>"
      ],
      "text/plain": [
       "           Maxine  Amanda\n",
       "Morning      96.8    97.4\n",
       "Afternoon    97.0    98.2\n",
       "Evening      99.0    99.2"
      ]
     },
     "execution_count": 60,
     "metadata": {},
     "output_type": "execute_result"
    }
   ],
   "source": [
    "#The expression time.loc['Morning':'Evening', ['Maxine', 'Amanda']] \n",
    "#is used to select specific rows and columns from the DataFrame time based on labels.\n",
    "time.loc['Morning':'Evening', ['Maxine', 'Amanda']]"
   ]
  },
  {
   "cell_type": "code",
   "execution_count": 61,
   "id": "c55cfe91-f8b9-4d52-99fa-4d66f02e64b8",
   "metadata": {},
   "outputs": [
    {
     "data": {
      "text/html": [
       "<div>\n",
       "<style scoped>\n",
       "    .dataframe tbody tr th:only-of-type {\n",
       "        vertical-align: middle;\n",
       "    }\n",
       "\n",
       "    .dataframe tbody tr th {\n",
       "        vertical-align: top;\n",
       "    }\n",
       "\n",
       "    .dataframe thead th {\n",
       "        text-align: right;\n",
       "    }\n",
       "</style>\n",
       "<table border=\"1\" class=\"dataframe\">\n",
       "  <thead>\n",
       "    <tr style=\"text-align: right;\">\n",
       "      <th></th>\n",
       "      <th>Maxine</th>\n",
       "      <th>Amanda</th>\n",
       "    </tr>\n",
       "  </thead>\n",
       "  <tbody>\n",
       "    <tr>\n",
       "      <th>Morning</th>\n",
       "      <td>96.8</td>\n",
       "      <td>97.4</td>\n",
       "    </tr>\n",
       "    <tr>\n",
       "      <th>Afternoon</th>\n",
       "      <td>97.0</td>\n",
       "      <td>98.2</td>\n",
       "    </tr>\n",
       "  </tbody>\n",
       "</table>\n",
       "</div>"
      ],
      "text/plain": [
       "           Maxine  Amanda\n",
       "Morning      96.8    97.4\n",
       "Afternoon    97.0    98.2"
      ]
     },
     "execution_count": 61,
     "metadata": {},
     "output_type": "execute_result"
    }
   ],
   "source": [
    "#same \n",
    "time.loc['Morning':'Afternoon', ['Maxine', 'Amanda']]"
   ]
  },
  {
   "cell_type": "code",
   "execution_count": 62,
   "id": "cf84874d-1186-4ef9-b173-901382fcf4ca",
   "metadata": {},
   "outputs": [
    {
     "data": {
      "text/html": [
       "<div>\n",
       "<style scoped>\n",
       "    .dataframe tbody tr th:only-of-type {\n",
       "        vertical-align: middle;\n",
       "    }\n",
       "\n",
       "    .dataframe tbody tr th {\n",
       "        vertical-align: top;\n",
       "    }\n",
       "\n",
       "    .dataframe thead th {\n",
       "        text-align: right;\n",
       "    }\n",
       "</style>\n",
       "<table border=\"1\" class=\"dataframe\">\n",
       "  <thead>\n",
       "    <tr style=\"text-align: right;\">\n",
       "      <th></th>\n",
       "      <th>Maxine</th>\n",
       "      <th>James</th>\n",
       "      <th>Amanda</th>\n",
       "    </tr>\n",
       "  </thead>\n",
       "  <tbody>\n",
       "    <tr>\n",
       "      <th>count</th>\n",
       "      <td>3.000000</td>\n",
       "      <td>3.000000</td>\n",
       "      <td>3.000000</td>\n",
       "    </tr>\n",
       "    <tr>\n",
       "      <th>mean</th>\n",
       "      <td>97.600000</td>\n",
       "      <td>98.600000</td>\n",
       "      <td>98.266667</td>\n",
       "    </tr>\n",
       "    <tr>\n",
       "      <th>std</th>\n",
       "      <td>1.216553</td>\n",
       "      <td>1.571623</td>\n",
       "      <td>0.901850</td>\n",
       "    </tr>\n",
       "    <tr>\n",
       "      <th>min</th>\n",
       "      <td>96.800000</td>\n",
       "      <td>97.200000</td>\n",
       "      <td>97.400000</td>\n",
       "    </tr>\n",
       "    <tr>\n",
       "      <th>25%</th>\n",
       "      <td>96.900000</td>\n",
       "      <td>97.750000</td>\n",
       "      <td>97.800000</td>\n",
       "    </tr>\n",
       "    <tr>\n",
       "      <th>50%</th>\n",
       "      <td>97.000000</td>\n",
       "      <td>98.300000</td>\n",
       "      <td>98.200000</td>\n",
       "    </tr>\n",
       "    <tr>\n",
       "      <th>75%</th>\n",
       "      <td>98.000000</td>\n",
       "      <td>99.300000</td>\n",
       "      <td>98.700000</td>\n",
       "    </tr>\n",
       "    <tr>\n",
       "      <th>max</th>\n",
       "      <td>99.000000</td>\n",
       "      <td>100.300000</td>\n",
       "      <td>99.200000</td>\n",
       "    </tr>\n",
       "  </tbody>\n",
       "</table>\n",
       "</div>"
      ],
      "text/plain": [
       "          Maxine       James     Amanda\n",
       "count   3.000000    3.000000   3.000000\n",
       "mean   97.600000   98.600000  98.266667\n",
       "std     1.216553    1.571623   0.901850\n",
       "min    96.800000   97.200000  97.400000\n",
       "25%    96.900000   97.750000  97.800000\n",
       "50%    97.000000   98.300000  98.200000\n",
       "75%    98.000000   99.300000  98.700000\n",
       "max    99.000000  100.300000  99.200000"
      ]
     },
     "execution_count": 62,
     "metadata": {},
     "output_type": "execute_result"
    }
   ],
   "source": [
    "#h\n",
    "time.describe()"
   ]
  },
  {
   "cell_type": "code",
   "execution_count": 63,
   "id": "308f517e-4ea7-4cb8-87b5-e9044681da2b",
   "metadata": {},
   "outputs": [],
   "source": [
    "#The line of code temperature = time.transpose() transposes the DataFrame time, switching its rows and columns. \n",
    "temperature = time.transpose()"
   ]
  },
  {
   "cell_type": "code",
   "execution_count": 64,
   "id": "5d0240d0-969e-47ce-b0aa-86bc430d43fc",
   "metadata": {},
   "outputs": [
    {
     "data": {
      "text/html": [
       "<div>\n",
       "<style scoped>\n",
       "    .dataframe tbody tr th:only-of-type {\n",
       "        vertical-align: middle;\n",
       "    }\n",
       "\n",
       "    .dataframe tbody tr th {\n",
       "        vertical-align: top;\n",
       "    }\n",
       "\n",
       "    .dataframe thead th {\n",
       "        text-align: right;\n",
       "    }\n",
       "</style>\n",
       "<table border=\"1\" class=\"dataframe\">\n",
       "  <thead>\n",
       "    <tr style=\"text-align: right;\">\n",
       "      <th></th>\n",
       "      <th>Morning</th>\n",
       "      <th>Afternoon</th>\n",
       "      <th>Evening</th>\n",
       "    </tr>\n",
       "  </thead>\n",
       "  <tbody>\n",
       "    <tr>\n",
       "      <th>Maxine</th>\n",
       "      <td>96.8</td>\n",
       "      <td>97.0</td>\n",
       "      <td>99.0</td>\n",
       "    </tr>\n",
       "    <tr>\n",
       "      <th>James</th>\n",
       "      <td>97.2</td>\n",
       "      <td>98.3</td>\n",
       "      <td>100.3</td>\n",
       "    </tr>\n",
       "    <tr>\n",
       "      <th>Amanda</th>\n",
       "      <td>97.4</td>\n",
       "      <td>98.2</td>\n",
       "      <td>99.2</td>\n",
       "    </tr>\n",
       "  </tbody>\n",
       "</table>\n",
       "</div>"
      ],
      "text/plain": [
       "        Morning  Afternoon  Evening\n",
       "Maxine     96.8       97.0     99.0\n",
       "James      97.2       98.3    100.3\n",
       "Amanda     97.4       98.2     99.2"
      ]
     },
     "execution_count": 64,
     "metadata": {},
     "output_type": "execute_result"
    }
   ],
   "source": [
    "temperature"
   ]
  },
  {
   "cell_type": "code",
   "execution_count": 65,
   "id": "d77b3f0b-5ec9-4b3f-9940-e14c0067ca90",
   "metadata": {},
   "outputs": [
    {
     "data": {
      "text/html": [
       "<div>\n",
       "<style scoped>\n",
       "    .dataframe tbody tr th:only-of-type {\n",
       "        vertical-align: middle;\n",
       "    }\n",
       "\n",
       "    .dataframe tbody tr th {\n",
       "        vertical-align: top;\n",
       "    }\n",
       "\n",
       "    .dataframe thead th {\n",
       "        text-align: right;\n",
       "    }\n",
       "</style>\n",
       "<table border=\"1\" class=\"dataframe\">\n",
       "  <thead>\n",
       "    <tr style=\"text-align: right;\">\n",
       "      <th></th>\n",
       "      <th>Morning</th>\n",
       "      <th>Afternoon</th>\n",
       "      <th>Evening</th>\n",
       "    </tr>\n",
       "  </thead>\n",
       "  <tbody>\n",
       "    <tr>\n",
       "      <th>Amanda</th>\n",
       "      <td>97.4</td>\n",
       "      <td>98.2</td>\n",
       "      <td>99.2</td>\n",
       "    </tr>\n",
       "    <tr>\n",
       "      <th>James</th>\n",
       "      <td>97.2</td>\n",
       "      <td>98.3</td>\n",
       "      <td>100.3</td>\n",
       "    </tr>\n",
       "    <tr>\n",
       "      <th>Maxine</th>\n",
       "      <td>96.8</td>\n",
       "      <td>97.0</td>\n",
       "      <td>99.0</td>\n",
       "    </tr>\n",
       "  </tbody>\n",
       "</table>\n",
       "</div>"
      ],
      "text/plain": [
       "        Morning  Afternoon  Evening\n",
       "Amanda     97.4       98.2     99.2\n",
       "James      97.2       98.3    100.3\n",
       "Maxine     96.8       97.0     99.0"
      ]
     },
     "execution_count": 65,
     "metadata": {},
     "output_type": "execute_result"
    }
   ],
   "source": [
    "#The expression temperature[2::-1] is used to slice the DataFrame (or Series) temperature based on positional indexing.\n",
    "#Slicing Explained[2::] This indicates the starting position of the slice. In the context of a DataFrame, this references the third row \n",
    "#(if there are at least three rows).::-1: This specifies a step of -1, meaning you want to reverse the order of the rows starting \n",
    "#from the index 2 down to the beginning (index 0).\n",
    "temperature[2::-1]\n",
    "            "
   ]
  },
  {
   "cell_type": "code",
   "execution_count": null,
   "id": "47744edf-1dd8-4e06-82cb-a5d212946427",
   "metadata": {},
   "outputs": [],
   "source": []
  },
  {
   "cell_type": "code",
   "execution_count": null,
   "id": "f67e8c95-d613-4945-85fe-bbe43d97c0fc",
   "metadata": {},
   "outputs": [],
   "source": []
  }
 ],
 "metadata": {
  "kernelspec": {
   "display_name": "Python 3 (ipykernel)",
   "language": "python",
   "name": "python3"
  },
  "language_info": {
   "codemirror_mode": {
    "name": "ipython",
    "version": 3
   },
   "file_extension": ".py",
   "mimetype": "text/x-python",
   "name": "python",
   "nbconvert_exporter": "python",
   "pygments_lexer": "ipython3",
   "version": "3.9.7"
  }
 },
 "nbformat": 4,
 "nbformat_minor": 5
}
